{
 "cells": [
  {
   "cell_type": "markdown",
   "id": "1c09b8c2",
   "metadata": {},
   "source": [
    "# Capstone Project - The Battle of the Neighborhoods (Week 2)\n",
    "## Applied Data Science Capstone by IBM/Coursera"
   ]
  },
  {
   "cell_type": "markdown",
   "id": "d7d0e4aa",
   "metadata": {},
   "source": [
    "## Vegan Restaurants to fight Climate Change"
   ]
  },
  {
   "cell_type": "markdown",
   "id": "f5839088",
   "metadata": {},
   "source": [
    "## Table of contents\n",
    "* [Introduction: Business Problem](#introduction)\n",
    "* [Data](#data)\n",
    "* [Methodology](#methodology)\n",
    "* [Analysis](#analysis)\n",
    "* [Results and Discussion](#results)\n",
    "* [Conclusion](#conclusion)"
   ]
  },
  {
   "cell_type": "markdown",
   "id": "3b71a1ca",
   "metadata": {},
   "source": [
    "## Introduction: Business Problem <a name=\"introduction\"></a>\n",
    "\n",
    "Climate change poses a threat to the security of our food supply. Rising temperatures, increased rain and more extreme weather events will all have an impact on crops and livestock. Food production also contributes to global warming. Agriculture - together with forestry - accounts for about a quarter of greenhouse gas emissions. Livestock rearing contributes to global warming through the methane gas the animals produce, but also via deforestation to expand pastures, for example. Feeding massive amounts of grain and water to farmed animals and then killing them and processing, transporting, and storing their flesh is extremely energy-intensive. And forests—which absorb greenhouse gases—are cut down in order to supply pastureland and grow crops for farmed animals. Finally, the animals themselves and all the manure that they produce release even more greenhouse gases into our atmosphere.\n",
    "\n",
    "The environmental impact of meat production is important to many vegetarians and vegans. In the US, vegan burger patties are made from plant-based meat substitutes to taste like the real thing thanks to an iron-rich compound called heme. Eating vegan foods rather than animal-based ones is the best way to reduce your carbon footprint. A University of Chicago study even showed that one can reduce carbon footprint more effectively by going vegan than by switching from a conventional car to a hybrid.\n",
    "\n",
    "In this project we will attempt to find one or several optimal locations for a Vegan restaurant. Specifically, this report will be targeted to stakeholders interested in opening a Vegan restaurant in one of the populous cities of the most populous states in the U.S, California and Texas.\n",
    "\n",
    "Since there are lots of restaurants in the cities within these two states we will try to detect locations that are not already crowded with restaurants. We are also particularly interested in areas with hardly any Vegan restaurants in the vicinity. \n",
    "\n",
    "We will use the data science powers to generate a few most promising neighborhoods based on this criteria. Populations in each neighborhood within the focus region will then be clearly expressed so that best possible location(s) can be chosen by stakeholders. By no means this will be a complete study that considers all possible factors in determining the best possible locations."
   ]
  },
  {
   "cell_type": "markdown",
   "id": "970017f3",
   "metadata": {},
   "source": [
    "## Data <a name=\"data\"></a>\n",
    "\n",
    "We will use the FourSquare API to collect data about locations of Vegan places in 4 US metros areas: Houston, TX, Dallas, TX, San Francisco, CA and Los Angeles, CA. These are two most populous metro areas within Texas and California.\n",
    "\n",
    "Based on definition of our problem, factors that will influence our decision are:\n",
    "\n",
    "* Number of existing vegan restaurants in the metro area\n",
    "* Mean distance to the vegan restaurants in the metro area\n",
    "* Population within the neighborhoods that have least number of Vegan restaurants\n",
    "\n",
    "Following data sources will be needed to extract/generate the required information:\n",
    "\n",
    "* The number of vegan restaurants and their location in every neighborhood of the metro will be obtained using **Foursquare API**\n",
    "\n",
    "* The zip codes of the neighborhoods and population information will be obtained using open data available in **https://catalog.data.gov/dataset**"
   ]
  },
  {
   "cell_type": "markdown",
   "id": "ab915636",
   "metadata": {},
   "source": [
    "### Import Libraries"
   ]
  },
  {
   "cell_type": "code",
   "execution_count": 28,
   "id": "e727f0bb",
   "metadata": {},
   "outputs": [
    {
     "name": "stdout",
     "output_type": "stream",
     "text": [
      "Requirement already satisfied: geopy in /home/jupyterlab/conda/envs/python/lib/python3.6/site-packages (2.1.0)\n",
      "Requirement already satisfied: geographiclib<2,>=1.49 in /home/jupyterlab/conda/envs/python/lib/python3.6/site-packages (from geopy) (1.50)\n",
      "Libraries imported.\n"
     ]
    }
   ],
   "source": [
    "import numpy as np # lib to handle data in a vectorized manner\n",
    "import pandas as pd # lib for data analsysis\n",
    "pd.set_option('display.max_columns', None)\n",
    "pd.set_option('display.max_rows', None)\n",
    "import requests # library to handle requests\n",
    "from pandas.io.json import json_normalize # Tranform JSON file into pandas dataframe\n",
    "import matplotlib.pyplot as plt\n",
    "import folium # map rendering lib\n",
    "!pip install geopy\n",
    "from geopy.geocoders import Nominatim # convert an address into latitude and longitude values\n",
    "print('Libraries imported.')"
   ]
  },
  {
   "cell_type": "markdown",
   "id": "5eab48ba",
   "metadata": {},
   "source": [
    "### Foursquare Information"
   ]
  },
  {
   "cell_type": "code",
   "execution_count": 29,
   "id": "e161d332",
   "metadata": {},
   "outputs": [
    {
     "name": "stdout",
     "output_type": "stream",
     "text": [
      "Your credentails:\n",
      "CLIENT_ID: 55B0MPP35REWKMZXF3B4A0PKIWJSEOL4WL5MKGUOBTDBAJIA\n"
     ]
    }
   ],
   "source": [
    "CLIENT_ID = '55B0MPP35REWKMZXF3B4A0PKIWJSEOL4WL5MKGUOBTDBAJIA' # My Foursquare ID\n",
    "CLIENT_SECRET = 'SSL4STGZJU4BRSK5UPPJDDRVZARIJAYFZ02IZFJQVGLQGNS2' # My Foursquare Secret\n",
    "VERSION = '20210417' # Foursquare API version\n",
    "\n",
    "print('Your credentails:')\n",
    "print('CLIENT_ID: ' + CLIENT_ID)"
   ]
  },
  {
   "cell_type": "markdown",
   "id": "d5d6444f",
   "metadata": {},
   "source": [
    "### Define the metro areas and leverage foursquare data"
   ]
  },
  {
   "cell_type": "code",
   "execution_count": null,
   "id": "f20778e9",
   "metadata": {},
   "outputs": [],
   "source": [
    "LIMIT = 500 #Top venues\n",
    "metros = ['Houston, TX', 'Dallas, TX', 'San Francisco, CA', 'Los Angeles, CA'] #Main cities within the metro area is chosen\n",
    "results = {}\n",
    "for metro in metros:\n",
    "    url = 'https://api.foursquare.com/v2/venues/explore?&client_id={}&client_secret={}&v={}&near={}&limit={}&categoryId={}'.format(\n",
    "        CLIENT_ID, \n",
    "        CLIENT_SECRET, \n",
    "        VERSION, \n",
    "        metro,\n",
    "        LIMIT,\n",
    "        \"4bf58dd8d48988d1d3941735\") # VEGAN/VEGETARIAN PLACE CATEGORY ID\n",
    "    results[metro] = requests.get(url).json()"
   ]
  },
  {
   "cell_type": "markdown",
   "id": "bfaab531",
   "metadata": {},
   "source": [
    "## Methodology <a name=\"methodology\"></a>\n",
    "\n",
    "The objectives here are to assess which metro area would have the least established vegan restaurants density and further explore the focused area to determine possible neighborhoods for a new restaurant. For the four metro areas, the main city within the metro is chosen initially for simplicity with Foursquare. For example \"San Francisco, CA\" is chosen in lieu of \"San Francisco-Oakland-Berkeley, CA\"; \"Dallas, TX in lieu of \"Dallas-Fort Worth, TX\". The number of Vegan places in the main city is assumed to be an indicator of the Vegan places in that entire metro region. \n",
    "\n",
    "The Four Square API  is used via the venues query. The near query is used to get venues in the metros. Also, the Category ID <4bf58dd8d48988d1d3941735> that is available for Vegan/Vegetarian place is assumed for Vegan restaurants. The Foursquare limits us to max 100 venues per query. This request was repeated for the 4 studied metros and received their top 100 venues. The name and coordinate data were saved from the result and plotted them on the map for visual inspection.\n",
    "\n",
    "Next, to get an indicator of the density of Vegan Places, a center coordinate of the venues was calculated to get the mean longitude and latitude values. Then the mean of the Euclidean distance from each venue was calculated to the mean coordinates. That was the indicator: mean distance to the mean coordinate.\n",
    "\n",
    "Next the metro with least densely populated with Vegan places is determined. This will be the focus area for further analysis. This project takes into account only the population levels and assumes more the people, more the demand for Vegan food. The zip codes, neighborhood names, coordinates and population information for this metro region are obtained. Each neighborhood within the largest county in the metro is analyzed with respective vegan places and population in them. The most populated neighborhoods with least amount of vegan places are then obtained."
   ]
  },
  {
   "cell_type": "markdown",
   "id": "6089a2fc",
   "metadata": {},
   "source": [
    "### Obtain current established Vegan places and densities in the metro areas of interest"
   ]
  },
  {
   "cell_type": "code",
   "execution_count": null,
   "id": "681cc389",
   "metadata": {},
   "outputs": [],
   "source": [
    "df_venues={}\n",
    "for metro in metros:\n",
    "    venues = pd.json_normalize(results[metro]['response']['groups'][0]['items'])\n",
    "    df_venues[metro] = venues[['venue.name', 'venue.location.address', 'venue.location.lat', 'venue.location.lng']]\n",
    "    df_venues[metro].columns = ['Name', 'Address', 'Lat', 'Lng']"
   ]
  },
  {
   "cell_type": "code",
   "execution_count": null,
   "id": "e9591a3e",
   "metadata": {},
   "outputs": [],
   "source": [
    "maps = {}\n",
    "for metro in metros:\n",
    "    metro_lat = np.mean([results[metro]['response']['geocode']['geometry']['bounds']['ne']['lat'],\n",
    "                        results[metro]['response']['geocode']['geometry']['bounds']['sw']['lat']])\n",
    "    metro_lng = np.mean([results[metro]['response']['geocode']['geometry']['bounds']['ne']['lng'],\n",
    "                        results[metro]['response']['geocode']['geometry']['bounds']['sw']['lng']])\n",
    "    maps[metro] = folium.Map(location=[metro_lat, metro_lng], zoom_start=11)\n",
    "\n",
    "    # add markers to map\n",
    "    for lat, lng, label in zip(df_venues[metro]['Lat'], df_venues[metro]['Lng'], df_venues[metro]['Name']):\n",
    "        label = folium.Popup(label, parse_html=True)\n",
    "        folium.CircleMarker(\n",
    "            [lat, lng],\n",
    "            radius=5,\n",
    "            popup=label,\n",
    "            color='blue',\n",
    "            fill=True,\n",
    "            fill_color='#3186cc',\n",
    "            fill_opacity=0.7,\n",
    "            parse_html=False).add_to(maps[metro])  \n",
    "    print(f\"Total number of vegan places in {metro} = \", results[metro]['response']['totalResults'])\n",
    "    print(\"Established Places\")"
   ]
  },
  {
   "cell_type": "markdown",
   "id": "8e1abfc8",
   "metadata": {},
   "source": [
    "### Create a map of the Vegan places for all metro areas of interest"
   ]
  },
  {
   "cell_type": "code",
   "execution_count": null,
   "id": "de9e40a7",
   "metadata": {},
   "outputs": [],
   "source": [
    "maps[metros[0]]"
   ]
  },
  {
   "cell_type": "code",
   "execution_count": null,
   "id": "4d3b4928",
   "metadata": {
    "tags": []
   },
   "outputs": [],
   "source": [
    "maps[metros[1]]"
   ]
  },
  {
   "cell_type": "code",
   "execution_count": null,
   "id": "79006b74",
   "metadata": {
    "tags": []
   },
   "outputs": [],
   "source": [
    "maps[metros[2]]"
   ]
  },
  {
   "cell_type": "code",
   "execution_count": null,
   "id": "8fad1a9b",
   "metadata": {
    "tags": []
   },
   "outputs": [],
   "source": [
    "maps[metros[3]]"
   ]
  },
  {
   "cell_type": "markdown",
   "id": "adfdd0d7",
   "metadata": {},
   "source": [
    "### Focus Area Determination\n",
    "\n",
    "We can see that San Francisco and Los Angeles are the densest cities with established Vegan places. Dallas is least dense with established Vegan places.\n",
    "\n",
    "To measure the density, some basic statistics will be obtained. First the mean location of the Vegan places (which should be near to most of them if they are really dense or far if not) is obtained. Then the average of the distance of the venues to the mean coordinates."
   ]
  },
  {
   "cell_type": "code",
   "execution_count": null,
   "id": "cc166436",
   "metadata": {},
   "outputs": [],
   "source": [
    "maps = {}\n",
    "for metro in metros:\n",
    "    metro_lat = np.mean([results[metro]['response']['geocode']['geometry']['bounds']['ne']['lat'],\n",
    "                        results[metro]['response']['geocode']['geometry']['bounds']['sw']['lat']])\n",
    "    metro_lng = np.mean([results[metro]['response']['geocode']['geometry']['bounds']['ne']['lng'],\n",
    "                        results[metro]['response']['geocode']['geometry']['bounds']['sw']['lng']])\n",
    "    maps[metro] = folium.Map(location=[metro_lat, metro_lng], zoom_start=11)\n",
    "    venues_mean_coor = [df_venues[metro]['Lat'].mean(), df_venues[metro]['Lng'].mean()] \n",
    "    # add markers to map\n",
    "    for lat, lng, label in zip(df_venues[metro]['Lat'], df_venues[metro]['Lng'], df_venues[metro]['Name']):\n",
    "        label = folium.Popup(label, parse_html=True)\n",
    "        folium.CircleMarker(\n",
    "            [lat, lng],\n",
    "            radius=5,\n",
    "            popup=label,\n",
    "            color='blue',\n",
    "            fill=True,\n",
    "            fill_color='#3186cc',\n",
    "            fill_opacity=0.7,\n",
    "            parse_html=False).add_to(maps[metro])\n",
    "        folium.PolyLine([venues_mean_coor, [lat, lng]], color=\"green\", weight=1.5, opacity=0.5).add_to(maps[metro])\n",
    "    \n",
    "    label = folium.Popup(\"Mean Co-ordinate\", parse_html=True)\n",
    "    folium.CircleMarker(\n",
    "        venues_mean_coor,\n",
    "        radius=10,\n",
    "        popup=label,\n",
    "        color='green',\n",
    "        fill=True,\n",
    "        fill_color='#3186cc',\n",
    "        fill_opacity=0.7,\n",
    "        parse_html=False).add_to(maps[metro])\n",
    "\n",
    "    print(metro)\n",
    "    print(\"Mean Distance from Mean coordinates\")\n",
    "    print(np.mean(np.apply_along_axis(lambda x: np.linalg.norm(x - venues_mean_coor),1,df_venues[metro][['Lat','Lng']].values)))"
   ]
  },
  {
   "cell_type": "code",
   "execution_count": null,
   "id": "d5d01bf3",
   "metadata": {},
   "outputs": [],
   "source": [
    "maps[metros[0]]"
   ]
  },
  {
   "cell_type": "code",
   "execution_count": null,
   "id": "2dc40dc8",
   "metadata": {
    "tags": []
   },
   "outputs": [],
   "source": [
    "maps[metros[1]]"
   ]
  },
  {
   "cell_type": "code",
   "execution_count": null,
   "id": "7606e063",
   "metadata": {},
   "outputs": [],
   "source": [
    "maps[metros[2]]"
   ]
  },
  {
   "cell_type": "code",
   "execution_count": null,
   "id": "ec9814a3",
   "metadata": {},
   "outputs": [],
   "source": [
    "maps[metros[3]]"
   ]
  },
  {
   "cell_type": "markdown",
   "id": "3d3b6527",
   "metadata": {},
   "source": [
    "## Analysis <a name=\"analysis\"></a>"
   ]
  },
  {
   "cell_type": "markdown",
   "id": "3e06bd38",
   "metadata": {
    "tags": []
   },
   "source": [
    "We can see that Dallas, TX is the least favorable in terms of number of Vegan places and also the places in this metro area are farther apart. Houston comes next as least favorable.\n",
    "\n",
    "Based on this, it is assumed Dallas-Fort Worth (DFW) metroplex has comparatively less Vegan restaurants than the other 3 metropolitan areas.\n",
    "\n",
    "Let's explore the DFW metro area neighborhoods to determine the population levels and the location of currently established Vegan places."
   ]
  },
  {
   "cell_type": "markdown",
   "id": "27e70abf",
   "metadata": {
    "tags": []
   },
   "source": [
    "We need to import the zip codes for the DFW metro along with its cities or neighborhoods and their coordinates."
   ]
  },
  {
   "cell_type": "code",
   "execution_count": null,
   "id": "7e5162b6",
   "metadata": {},
   "outputs": [],
   "source": [
    "# Import zip codes, latitude/longitude and cities/neighborhoods of Texas\n",
    "raw_zip = pd.read_csv('https://raw.githubusercontent.com/amarvelous/Coursera_Capstone/main/us-zip-code-latitude-and-longitude.csv')\n",
    "raw_zip.head()"
   ]
  },
  {
   "cell_type": "markdown",
   "id": "2dbdf9fb",
   "metadata": {},
   "source": [
    "### Data Cleaning/Processing\n",
    "Raw data of Texas is cleaned up to create a new dataframe with only DFW counties and their neighborhoods"
   ]
  },
  {
   "cell_type": "code",
   "execution_count": null,
   "id": "96829363",
   "metadata": {},
   "outputs": [],
   "source": [
    "# Drop unused colums\n",
    "raw_zip.drop(['zcta','parent_zcta','density','county_fips','all_county_weights','imprecise','military','timezone'], axis=1, inplace=True)\n",
    "raw_zip=raw_zip[['state_name', 'state_id', 'county_name', 'city', 'zip', 'lat', 'lng', 'population']]\n",
    "\n",
    "# Rename columns\n",
    "raw_zip.rename(columns={'lat':'latitude','lng':'longitude','city':'neighborhood'}, inplace=True)\n",
    "raw_zip.rename(columns={'county_name':'city','state_name':'state'}, inplace=True)\n",
    "raw_zip.head()"
   ]
  },
  {
   "cell_type": "markdown",
   "id": "547a83c0",
   "metadata": {},
   "source": [
    "DFW is mainly covered by 4 counties: Dallas, Tarrant, Collin and Denton with sizable populations."
   ]
  },
  {
   "cell_type": "code",
   "execution_count": null,
   "id": "f324a486",
   "metadata": {},
   "outputs": [],
   "source": [
    "# New dataframe with DFW neighborhoods\n",
    "dal_zip = raw_zip[raw_zip.city == 'Dallas']\n",
    "dal_zip.set_index(\"city\")\n",
    "\n",
    "Tar_zip = raw_zip[raw_zip.city == 'Tarrant']\n",
    "Tar_zip.set_index(\"city\")\n",
    "\n",
    "Col_zip = raw_zip[raw_zip.city == 'Collin']\n",
    "Col_zip.set_index(\"city\")\n",
    "\n",
    "Dent_zip = raw_zip[raw_zip.city == 'Denton']\n",
    "Dent_zip.set_index(\"city\")\n",
    "\n",
    "DFW_zip = dal_zip.append(Tar_zip).append(Col_zip).append(Dent_zip)\n",
    "print(DFW_zip.dtypes)\n",
    "print(DFW_zip.shape)\n",
    "#print(dal_zip.columns)\n",
    "DFW_zip"
   ]
  },
  {
   "cell_type": "code",
   "execution_count": null,
   "id": "ed881dd1",
   "metadata": {},
   "outputs": [],
   "source": [
    "Dallas_pop = DFW_zip.loc[DFW_zip['city'] == 'Dallas', 'population'].sum()\n",
    "print('Dallas County population is', Dallas_pop)\n",
    "\n",
    "Tarrant_pop = DFW_zip.loc[DFW_zip['city'] == 'Tarrant', 'population'].sum()\n",
    "print('Tarrant County population is', Tarrant_pop)\n",
    "\n",
    "Collin_pop = DFW_zip.loc[DFW_zip['city'] == 'Collin', 'population'].sum()\n",
    "print('Collin County population is', Collin_pop)\n",
    "\n",
    "Denton_pop = DFW_zip.loc[DFW_zip['city'] == 'Denton', 'population'].sum()\n",
    "print('Denton County population is', Denton_pop)"
   ]
  },
  {
   "cell_type": "code",
   "execution_count": null,
   "id": "6246cbfb",
   "metadata": {},
   "outputs": [],
   "source": [
    "DFW_zip.groupby('city')['population'].sum().plot.bar(figsize=(10,5), color='r')\n",
    "plt.title('Population per DFW County', fontsize = 20)\n",
    "plt.ylim([0, 2500000])\n",
    "plt.xlabel('County', fontsize = 15)\n",
    "plt.ylabel('Population (M)',fontsize = 15)\n",
    "plt.xticks(rotation = 'horizontal')\n",
    "plt.show()"
   ]
  },
  {
   "cell_type": "markdown",
   "id": "690e7225",
   "metadata": {},
   "source": [
    "Among the four DFW counties, Dallas county is the most populous with over 2.4 million residents. Dallas County is the focus area for this project. Similar studies can be extended to other counties of the metro.\n",
    "\n",
    "Next, let's render a map of Neighborhood in the Dallas County. Name user agent (instance of geocoder) as dallas_explorer."
   ]
  },
  {
   "cell_type": "code",
   "execution_count": null,
   "id": "41e96d24",
   "metadata": {},
   "outputs": [],
   "source": [
    "address = 'Dallas, TX'\n",
    "geolocator = Nominatim(user_agent=\"dal_explorer\")\n",
    "location = geolocator.geocode(address)\n",
    "d_latitude = location.latitude\n",
    "d_longitude = location.longitude\n",
    "print('The geographical coordinate of Dallas County is {}, {}.'.format(d_latitude, d_longitude))"
   ]
  },
  {
   "cell_type": "markdown",
   "id": "034fc362",
   "metadata": {},
   "source": [
    "Map of Dallas county with neighborhoods superimposed."
   ]
  },
  {
   "cell_type": "code",
   "execution_count": null,
   "id": "4bc0e1b0",
   "metadata": {
    "tags": []
   },
   "outputs": [],
   "source": [
    "# Map of Dallas county using latitude and longitude\n",
    "map_dal = folium.Map(location=[d_latitude, d_longitude], zoom_start=10)\n",
    "\n",
    "# Markers\n",
    "for lat, lng, city, neighborhood in zip(dal_zip['latitude'], dal_zip['longitude'], dal_zip['city'], dal_zip['neighborhood']):\n",
    "    label = '{}, {}'.format(neighborhood, city)\n",
    "    label = folium.Popup(label, parse_html=True)\n",
    "    folium.CircleMarker(\n",
    "        [lat, lng],\n",
    "        radius=5,\n",
    "        popup=label,\n",
    "        color='blue',\n",
    "        fill=True,\n",
    "        fill_color='#3186cc',\n",
    "        fill_opacity=0.7,\n",
    "        parse_html=False).add_to(map_dal)  \n",
    "    \n",
    "map_dal"
   ]
  },
  {
   "cell_type": "markdown",
   "id": "f6cadb5f",
   "metadata": {},
   "source": [
    "Let's obtain the population levels in the Dallas County neighborhoods"
   ]
  },
  {
   "cell_type": "code",
   "execution_count": null,
   "id": "5a7dd12a",
   "metadata": {},
   "outputs": [],
   "source": [
    "Addison_total_pop = dal_zip.loc[dal_zip['neighborhood'] == 'Addison', 'population'].sum()\n",
    "print('Addison population is', Addison_total_pop)\n",
    "\n",
    "Dallas_total_pop = dal_zip.loc[dal_zip['neighborhood'] == 'Dallas', 'population'].sum()\n",
    "print('Dallas population is', Dallas_total_pop)\n",
    "\n",
    "Desoto_total_pop = dal_zip.loc[dal_zip['neighborhood'] == 'Desoto', 'population'].sum()\n",
    "print('Desoto population is', Desoto_total_pop)\n",
    "\n",
    "Irving_total_pop = dal_zip.loc[dal_zip['neighborhood'] == 'Irving', 'population'].sum()\n",
    "print('Irving population is', Irving_total_pop)\n",
    "\n",
    "Richardson_total_pop = dal_zip.loc[dal_zip['neighborhood'] == 'Richardson', 'population'].sum()\n",
    "print('Richardson population is', Richardson_total_pop)\n",
    "\n",
    "Rowlett_total_pop = dal_zip.loc[dal_zip['neighborhood'] == 'Rowlett', 'population'].sum()\n",
    "print('Rowlett population is', Rowlett_total_pop)\n",
    "\n",
    "Carrollton_total_pop = dal_zip.loc[dal_zip['neighborhood'] == 'Carrollton', 'population'].sum()\n",
    "print('Carrollton population is', Carrollton_total_pop)\n",
    "\n",
    "Coppell_total_pop = dal_zip.loc[dal_zip['neighborhood'] == 'Coppell', 'population'].sum()\n",
    "print('Coppell population is', Coppell_total_pop)\n",
    "\n",
    "Garland_total_pop = dal_zip.loc[dal_zip['neighborhood'] == 'Garland', 'population'].sum()\n",
    "print('Garland population is', Garland_total_pop)\n",
    "\n",
    "Sachse_total_pop = dal_zip.loc[dal_zip['neighborhood'] == 'Sachse', 'population'].sum()\n",
    "print('Sachse population is', Sachse_total_pop)\n",
    "\n",
    "Grand_Prairie_total_pop = dal_zip.loc[dal_zip['neighborhood'] == 'Grand Prairie', 'population'].sum()\n",
    "print('Grand Prairie population is', Grand_Prairie_total_pop)\n",
    "\n",
    "Cedar_Hill_total_pop = dal_zip.loc[dal_zip['neighborhood'] == 'Cedar Hill', 'population'].sum()\n",
    "print('Cedar Hill population is', Cedar_Hill_total_pop)\n",
    "\n",
    "Duncanville_total_pop = dal_zip.loc[dal_zip['neighborhood'] == 'Duncanville', 'population'].sum()\n",
    "print('Duncanville population is', Duncanville_total_pop)\n",
    "\n",
    "Hutchins_total_pop = dal_zip.loc[dal_zip['neighborhood'] == 'Hutchins', 'population'].sum()\n",
    "print('Hutchins population is', Hutchins_total_pop)\n",
    "\n",
    "Lancaster_total_pop = dal_zip.loc[dal_zip['neighborhood'] == 'Lancaster', 'population'].sum()\n",
    "print('Lancaster population is', Lancaster_total_pop)\n",
    "\n",
    "Mesquite_total_pop = dal_zip.loc[dal_zip['neighborhood'] == 'Mesquite', 'population'].sum()\n",
    "print('Mesquite population is', Mesquite_total_pop)\n",
    "\n",
    "Seagoville_total_pop = dal_zip.loc[dal_zip['neighborhood'] == 'Seagoville', 'population'].sum()\n",
    "print('Seagoville population is', Seagoville_total_pop)\n",
    "\n",
    "Wilmer_total_pop = dal_zip.loc[dal_zip['neighborhood'] == 'Wilmer', 'population'].sum()\n",
    "print('Wilmer population is', Wilmer_total_pop)\n",
    "\n",
    "Balch_Springs_total_pop = dal_zip.loc[dal_zip['neighborhood'] == 'Balch Springs', 'population'].sum()\n",
    "print('Balch Springs population is', Balch_Springs_total_pop)\n",
    "\n",
    "Sunnyvale_total_pop = dal_zip.loc[dal_zip['neighborhood'] == 'Sunnyvale', 'population'].sum()\n",
    "print('Sunnyvale population is', Sunnyvale_total_pop)"
   ]
  },
  {
   "cell_type": "markdown",
   "id": "e54798ae",
   "metadata": {},
   "source": [
    "Within the Dallas County, most populous neighborhoods (or cities) with 50K or more residents are chosen for further analysis. These neighborhoods are Dallas, Garland, Grand Prairie, Irving, Mesquite, Richardson, and Rowlett."
   ]
  },
  {
   "cell_type": "code",
   "execution_count": null,
   "id": "ac64f3f7",
   "metadata": {},
   "outputs": [],
   "source": [
    "LIMIT = 500 #Top venues\n",
    "d_cities = ['Dallas, TX', 'Garland, TX', 'Grand Prairie, TX', 'Irving, TX', 'Mesquite, TX', 'Richardson, TX', 'Rowlett, TX']\n",
    "d_results = {}\n",
    "for d_city in d_cities:\n",
    "    url = 'https://api.foursquare.com/v2/venues/explore?&client_id={}&client_secret={}&v={}&near={}&limit={}&categoryId={}'.format(\n",
    "        CLIENT_ID, \n",
    "        CLIENT_SECRET, \n",
    "        VERSION, \n",
    "        d_city,\n",
    "        LIMIT,\n",
    "        \"4bf58dd8d48988d1d3941735\") # VEGAN/VEGETARIAN PLACE CATEGORY ID\n",
    "    d_results[d_city] = requests.get(url).json()"
   ]
  },
  {
   "cell_type": "code",
   "execution_count": null,
   "id": "479fc49a",
   "metadata": {
    "tags": []
   },
   "outputs": [],
   "source": [
    "df_dvenues={}\n",
    "for d_city in d_cities:\n",
    "    dvenues = pd.json_normalize(d_results[d_city]['response']['groups'][0]['items'])\n",
    "    df_dvenues[d_city] = dvenues[['venue.name', 'venue.location.address', 'venue.location.lat', 'venue.location.lng']]\n",
    "    df_dvenues[d_city].columns = ['Name', 'Address', 'Lat', 'Lng']"
   ]
  },
  {
   "cell_type": "code",
   "execution_count": null,
   "id": "10ef56a1",
   "metadata": {},
   "outputs": [],
   "source": [
    "maps = {}\n",
    "for d_city in d_cities:\n",
    "    dcity_lat = np.mean([d_results[d_city]['response']['geocode']['geometry']['bounds']['ne']['lat'],\n",
    "                        d_results[d_city]['response']['geocode']['geometry']['bounds']['sw']['lat']])\n",
    "    dcity_lng = np.mean([d_results[d_city]['response']['geocode']['geometry']['bounds']['ne']['lng'],\n",
    "                        d_results[d_city]['response']['geocode']['geometry']['bounds']['sw']['lng']])\n",
    "    maps[d_city] = folium.Map(location=[dcity_lat, dcity_lng], zoom_start=11)\n",
    "\n",
    "    # add markers to map\n",
    "    for lat, lng, label in zip(df_dvenues[d_city]['Lat'], df_dvenues[d_city]['Lng'], df_dvenues[d_city]['Name']):\n",
    "        label = folium.Popup(label, parse_html=True)\n",
    "        folium.CircleMarker(\n",
    "            [lat, lng],\n",
    "            radius=5,\n",
    "            popup=label,\n",
    "            color='blue',\n",
    "            fill=True,\n",
    "            fill_color='#3186cc',\n",
    "            fill_opacity=0.7,\n",
    "            parse_html=False).add_to(maps[d_city])  \n",
    "    print(f\"Total number of vegan places in {d_city} = \", d_results[d_city]['response']['totalResults'])\n",
    "    print(\"Established Places\")"
   ]
  },
  {
   "cell_type": "markdown",
   "id": "e61ecb06",
   "metadata": {},
   "source": [
    "## Results and Discussion <a name=\"results\"></a>"
   ]
  },
  {
   "cell_type": "markdown",
   "id": "ddb60267",
   "metadata": {},
   "source": [
    "Per the above analysis, among the 4 most populous metro areas within the most populous states in U.S, Dallas, TX metro area has the least number of Vegan restaurants. The Dallas metro area or DFW includes mainly 4 counties with most number of residents. Dallas County is the largest among these 4 counties.  With Dallas County as the focus, the most populous neighborhoods/cities are considered to be ones with 50K or more residents. This filtered down to 7 neighborhoods: Dallas, Irving, Richardson, Rowlett, Garland, Grand Prairie and Mesquite. From above population and restaurant density analysis, we can arrive at the following results -\n",
    "\n",
    "* Dallas has 51 established Vegan places for its population of about 1.2M.\n",
    "* Garland has 48 established Vegan places for its population of about 227K.\n",
    "* Grand Prairie has 58 established Vegan places for its population of about 170K.\n",
    "* Irving has 65 established Vegan places for its population of about 218K.\n",
    "* Mesquite has 35 established Vegan places for its population of about 141K. \n",
    "* Richardson has 47 established Vegan places for its population of about 78K.\n",
    "* Rowlett has 11 established Vegan places for its population of about 55K.\n",
    "\n",
    "Dallas has 1 Vegan place for approximately every 23K residents. Garland has 1 Vegan place for approximately every 4K residents. Grand Prairie has 1 Vegan place for approximately every 3K residents. Irving has 1 Vegan place for about approximately every 3K residents also. Mesquite has 1 Vegan place for approximately every 4K residents. Richardson has 1 Vegan place for approximately every 1.7K residents; and finally Rowlett has 1 Vegan place for approximately every 5K residents.    "
   ]
  },
  {
   "cell_type": "markdown",
   "id": "6e62f3c4",
   "metadata": {},
   "source": [
    "## Conclusion <a name=\"conclusion\"></a>"
   ]
  },
  {
   "cell_type": "markdown",
   "id": "e65f5dd3",
   "metadata": {},
   "source": [
    "Based on an analysis of the population and amount of established Vegan places in the 4 largest metros within the two populous U.S states, Dallas TX metro provides opportunities for the stake holders to open Vegan restaurant and encourage Vegan food among residents to help fight climate change. Within the DFW metro, the top 4 neighborhoods within Dallas county area for opening new business for Vegan food are Dallas, Rowlett, Garland and Mesquite.\n",
    "\n",
    "This project took into account only the population levels and assumed more the people, more demand for Vegan food. Further analysis can be conducted taking into the account the education and employment levels in the neighborhoods, the income levels and age groups."
   ]
  },
  {
   "cell_type": "code",
   "execution_count": null,
   "id": "0096df2d",
   "metadata": {},
   "outputs": [],
   "source": []
  }
 ],
 "metadata": {
  "kernelspec": {
   "display_name": "Python",
   "language": "python",
   "name": "conda-env-python-py"
  },
  "language_info": {
   "codemirror_mode": {
    "name": "ipython",
    "version": 3
   },
   "file_extension": ".py",
   "mimetype": "text/x-python",
   "name": "python",
   "nbconvert_exporter": "python",
   "pygments_lexer": "ipython3",
   "version": "3.6.13"
  }
 },
 "nbformat": 4,
 "nbformat_minor": 5
}
